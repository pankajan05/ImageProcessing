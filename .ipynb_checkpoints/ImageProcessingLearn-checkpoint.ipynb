{
 "cells": [
  {
   "cell_type": "code",
   "execution_count": 1,
   "id": "854309dc",
   "metadata": {},
   "outputs": [],
   "source": [
    "import cv2"
   ]
  },
  {
   "cell_type": "code",
   "execution_count": 7,
   "id": "ce86b278",
   "metadata": {},
   "outputs": [],
   "source": [
    "#open Image\n",
    "#img = cv2.imread('IMG-79.jpg')\n",
    "\n",
    "#img= cv2.imread('IMG-79.jpg',0) #it open as grayscale image\n",
    "\n",
    "img = cv2.imread('IMG-79.jpg',cv2.IMREAD_GRAYSCALE) #IMREAD_UNCHANGED, IMREAD_COLOR\n",
    "cv2.imshow('My image', img)\n",
    "cv2.waitKey()\n",
    "cv2.destroyAllWindows()"
   ]
  },
  {
   "cell_type": "code",
   "execution_count": 9,
   "id": "455837e0",
   "metadata": {},
   "outputs": [
    {
     "data": {
      "text/plain": [
       "True"
      ]
     },
     "execution_count": 9,
     "metadata": {},
     "output_type": "execute_result"
    }
   ],
   "source": [
    "#saved the image using opencv\n",
    "cv2.imwrite('SavedFromNotebook.jpg',img)"
   ]
  },
  {
   "cell_type": "code",
   "execution_count": 18,
   "id": "8d903b1d",
   "metadata": {},
   "outputs": [
    {
     "name": "stdout",
     "output_type": "stream",
     "text": [
      "[230 246 253]\n"
     ]
    }
   ],
   "source": [
    "img = cv2.imread('IMG-79.jpg')\n",
    "\n",
    "px = img[50, 100] #img[x,y]\n",
    "print(px) #blue, green, red\n",
    "\n",
    "#this will modify the color of the image pixel\n",
    "img [50,100] = [0,0,250] "
   ]
  },
  {
   "cell_type": "code",
   "execution_count": 16,
   "id": "bf9b912c",
   "metadata": {},
   "outputs": [
    {
     "name": "stdout",
     "output_type": "stream",
     "text": [
      "246\n"
     ]
    }
   ],
   "source": [
    "img = cv2.imread('IMG-79.jpg',0)\n",
    "px = img[50, 100] #gray scale image only one value\n",
    "print(px)"
   ]
  },
  {
   "cell_type": "code",
   "execution_count": 2,
   "id": "4274eb44",
   "metadata": {},
   "outputs": [
    {
     "name": "stdout",
     "output_type": "stream",
     "text": [
      "(982, 859, 3)\n",
      "2530614\n",
      "uint8\n"
     ]
    }
   ],
   "source": [
    "img = cv2.imread('IMG-79.jpg')\n",
    "\n",
    "#access image properties\n",
    "print(img.shape) #size (h,w,number of color channel if b&w single or color=3\n",
    "print(img.size)\n",
    "print(img.dtype)"
   ]
  },
  {
   "cell_type": "code",
   "execution_count": 4,
   "id": "2b872db0",
   "metadata": {},
   "outputs": [],
   "source": [
    "#show the 3 images\n",
    "cv2.imshow('Color Image', img)\n",
    "\n",
    "gray = cv2.cvtColor(img,cv2.COLOR_BGR2GRAY)\n",
    "cv2.imshow('Gray Image', gray)\n",
    "\n",
    "res, black = cv2.threshold(gray, 120, 255, cv2.THRESH_BINARY)\n",
    "cv2.imshow('Black image', black)\n",
    "\n",
    "cv2.waitKey()\n",
    "cv2.destroyAllWindows()"
   ]
  },
  {
   "cell_type": "code",
   "execution_count": 1,
   "id": "35a6bab0",
   "metadata": {},
   "outputs": [],
   "source": [
    "#processing the video color\n",
    "import numpy as np\n",
    "import cv2"
   ]
  },
  {
   "cell_type": "code",
   "execution_count": 3,
   "id": "b8770e31",
   "metadata": {},
   "outputs": [],
   "source": [
    "#open the video\n",
    "video = cv2.VideoCapture('Backstreet Boys - Show Me The Meaning Of Being Lonely.mp4')"
   ]
  },
  {
   "cell_type": "code",
   "execution_count": null,
   "id": "0ff48cdd",
   "metadata": {},
   "outputs": [],
   "source": [
    "while(video.isOpened()):\n",
    "    #capture the frames\n",
    "    ret,frame=video.read()\n",
    "    #convert the color bgr to hsv\n",
    "    hsv = cv2.cvtColor(frame, cv2.COLOR_BGR2HSV)\n",
    "    \n",
    "    #define lower blue and upper blue\n",
    "    lower_blue = np.array([110,50,50])\n",
    "    upper_blue = np.array([130,255,255])\n",
    "    \n",
    "    #threshold to HSV image to get only the blue color\n",
    "    mask = cv2.inRange(hsv,lower_blue,upper_blue)\n",
    "    \n",
    "    #extract\n",
    "    res = cv2.bitwise_and(frame, frame, mask=mask)\n",
    "    \n",
    "    #create 3 separate window to show the videos\n",
    "    ims = cv2.resize(frame,(500,500)) #original video\n",
    "    cv2.imshow(\"Original\",ims)\n",
    "    \n",
    "    imo = cv2.resize(mask, (500,500)) #binary video\n",
    "    cv2.imshow(\"Output binary\", imo)\n",
    "    \n",
    "    imf = cv2.resize(res, (500,500))  #result video\n",
    "    cv2.imshow(\"Only blue Color\",imf)\n",
    "    \n",
    "    if cv2.waitKey(1) & 0xFF ==ord('q'):\n",
    "        break\n",
    "        \n",
    "cap.release() #release the video\n",
    "cv2.destroyAllWindows() #finish\n",
    "    "
   ]
  }
 ],
 "metadata": {
  "kernelspec": {
   "display_name": "Python 3",
   "language": "python",
   "name": "python3"
  },
  "language_info": {
   "codemirror_mode": {
    "name": "ipython",
    "version": 3
   },
   "file_extension": ".py",
   "mimetype": "text/x-python",
   "name": "python",
   "nbconvert_exporter": "python",
   "pygments_lexer": "ipython3",
   "version": "3.8.2"
  }
 },
 "nbformat": 4,
 "nbformat_minor": 5
}
