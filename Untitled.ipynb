{
 "cells": [
  {
   "cell_type": "code",
   "execution_count": null,
   "id": "bf34a0a2",
   "metadata": {},
   "outputs": [],
   "source": []
  },
  {
   "cell_type": "code",
   "execution_count": 24,
   "id": "3bb60e56",
   "metadata": {},
   "outputs": [
    {
     "name": "stdout",
     "output_type": "stream",
     "text": [
      "(194, 351)\n"
     ]
    },
    {
     "data": {
      "image/png": "[encoded data removed]",
      "text/plain": [
       "<Figure size 432x288 with 1 Axes>"
      ]
     },
     "metadata": {
      "needs_background": "light"
     },
     "output_type": "display_data"
    }
   ],
   "source": [
    "import cv2\n",
    "import numpy as np\n",
    "import matplotlib.pyplot as plt\n",
    "\n",
    "img = cv2.imread(\"rectangle.png\",0)\n",
    "\n",
    "print(img.shape) #show the height and width\n",
    "\n",
    "#cv2.imshow('Image', img)\n",
    "\n",
    "mask = np.zeros(img.shape[:2], np.uint8)\n",
    "\n",
    "mask[0:194, 150:351] = 255\n",
    "masked_img = cv2.bitwise_and(img,img,mask=mask)\n",
    "\n",
    "plt.imshow(mask,'gray')\n",
    "plt.imshow(masked_img,'gray')\n",
    "\n",
    "cv2.waitKey()\n",
    "cv2.destroyAllWindows()\n"
   ]
  },
  {
   "cell_type": "code",
   "execution_count": null,
   "id": "626f5c93",
   "metadata": {},
   "outputs": [],
   "source": [
    "\n",
    "for i in range(row):\n",
    "    for j in range(column):\n",
    "        if():\n",
    "        \n",
    "        \n",
    "        else:\n",
    "            \n",
    "\n",
    "            cv2.waitKey(0)"
   ]
  }
 ],
 "metadata": {
  "kernelspec": {
   "display_name": "Python 3",
   "language": "python",
   "name": "python3"
  },
  "language_info": {
   "codemirror_mode": {
    "name": "ipython",
    "version": 3
   },
   "file_extension": ".py",
   "mimetype": "text/x-python",
   "name": "python",
   "nbconvert_exporter": "python",
   "pygments_lexer": "ipython3",
   "version": "3.8.2"
  }
 },
 "nbformat": 4,
 "nbformat_minor": 5
}
