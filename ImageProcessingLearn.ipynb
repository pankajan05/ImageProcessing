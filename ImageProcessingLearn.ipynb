{
 "cells": [
  {
   "cell_type": "code",
   "execution_count": 1,
   "id": "32393c19",
   "metadata": {},
   "outputs": [],
   "source": [
    "import cv2"
   ]
  },
  {
   "cell_type": "code",
   "execution_count": 7,
   "id": "a7af1472",
   "metadata": {},
   "outputs": [],
   "source": [
    "#open Image\n",
    "#img = cv2.imread('IMG-79.jpg')\n",
    "\n",
    "#img= cv2.imread('IMG-79.jpg',0) #it open as grayscale image\n",
    "\n",
    "img = cv2.imread('IMG-79.jpg',cv2.IMREAD_GRAYSCALE) #IMREAD_UNCHANGED, IMREAD_COLOR\n",
    "cv2.imshow('My image', img)\n",
    "cv2.waitKey()\n",
    "cv2.destroyAllWindows()"
   ]
  },
  {
   "cell_type": "code",
   "execution_count": 9,
   "id": "d6e5f26d",
   "metadata": {},
   "outputs": [
    {
     "data": {
      "text/plain": [
       "True"
      ]
     },
     "execution_count": 9,
     "metadata": {},
     "output_type": "execute_result"
    }
   ],
   "source": [
    "#saved the image using opencv\n",
    "cv2.imwrite('SavedFromNotebook.jpg',img)"
   ]
  },
  {
   "cell_type": "code",
   "execution_count": 18,
   "id": "20eaa941",
   "metadata": {},
   "outputs": [
    {
     "name": "stdout",
     "output_type": "stream",
     "text": [
      "[230 246 253]\n"
     ]
    }
   ],
   "source": [
    "img = cv2.imread('IMG-79.jpg')\n",
    "\n",
    "px = img[50, 100] #img[x,y]\n",
    "print(px) #blue, green, red\n",
    "\n",
    "#this will modify the color of the image pixel\n",
    "img [50,100] = [0,0,250] "
   ]
  },
  {
   "cell_type": "code",
   "execution_count": 16,
   "id": "4a85fe27",
   "metadata": {},
   "outputs": [
    {
     "name": "stdout",
     "output_type": "stream",
     "text": [
      "246\n"
     ]
    }
   ],
   "source": [
    "img = cv2.imread('IMG-79.jpg',0)\n",
    "px = img[50, 100] #gray scale image only one value\n",
    "print(px)"
   ]
  },
  {
   "cell_type": "code",
   "execution_count": 20,
   "id": "6f3e80e9",
   "metadata": {},
   "outputs": [
    {
     "name": "stdout",
     "output_type": "stream",
     "text": [
      "(982, 859, 3)\n",
      "2530614\n",
      "uint8\n"
     ]
    }
   ],
   "source": [
    "img = cv2.imread('IMG-79.jpg')\n",
    "\n",
    "#access image properties\n",
    "print(img.shape) #size (h,w,number of color channel if b&w single or color=3\n",
    "print(img.size)\n",
    "print(img.dtype)"
   ]
  },
  {
   "cell_type": "code",
   "execution_count": null,
   "id": "703497e6",
   "metadata": {},
   "outputs": [],
   "source": []
  }
 ],
 "metadata": {
  "kernelspec": {
   "display_name": "Python 3",
   "language": "python",
   "name": "python3"
  },
  "language_info": {
   "codemirror_mode": {
    "name": "ipython",
    "version": 3
   },
   "file_extension": ".py",
   "mimetype": "text/x-python",
   "name": "python",
   "nbconvert_exporter": "python",
   "pygments_lexer": "ipython3",
   "version": "3.8.2"
  }
 },
 "nbformat": 4,
 "nbformat_minor": 5
}
